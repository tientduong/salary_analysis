{
 "cells": [
  {
   "cell_type": "markdown",
   "metadata": {
    "id": "s_A8NH-rnVcN"
   },
   "source": [
    "# Predicting student's test scores based on demographics, parental education, and preparation course completion."
   ]
  },
  {
   "cell_type": "markdown",
   "metadata": {
    "id": "1DDodQsFnQMf"
   },
   "source": [
    "Dataset is available at: https://www.kaggle.com/datasets/rkiattisak/student-performance-in-mathematics\n",
    "Must download dataset from website above, then import as \"exams.csv\" file and run on colab, share link is https://colab.research.google.com/drive/14Tn6CYab3nWGgnpi34o9nHvUZcgdam51?usp=sharing"
   ]
  },
  {
   "cell_type": "code",
   "execution_count": 1,
   "metadata": {
    "executionInfo": {
     "elapsed": 52,
     "status": "ok",
     "timestamp": 1685033232172,
     "user": {
      "displayName": "Tien Duong",
      "userId": "11443398976319580124"
     },
     "user_tz": 240
    },
    "id": "oRRz_q__WN_c"
   },
   "outputs": [],
   "source": [
    "!pip install jovian opendatasets --upgrade --quiet\n",
    "import opendatasets as od\n",
    "import torch\n",
    "import torchvision\n",
    "import torch.nn as nn\n",
    "import pandas as pd\n",
    "import matplotlib.pyplot as plt\n",
    "import torch.nn.functional as F\n",
    "from torchvision.datasets.utils import download_url\n",
    "from torch.utils.data import DataLoader, TensorDataset, random_split"
   ]
  },
  {
   "cell_type": "markdown",
   "metadata": {
    "id": "QGbjbWOHnq73"
   },
   "source": [
    "## 1. Finding the Dataset Online:\n",
    "The dataframe is a CSV file that stores information about 1000 students, available at  https://www.kaggle.com/datasets/rkiattisak/student-performance-in-mathematics. The information includes the students gender, ethnicity, parental level of education, lunch status, and test preparation course completion status. The goal for this project is to accurately predict the students test scores based on the information given. A portion of the dataframe is shown below."
   ]
  },
  {
   "cell_type": "code",
   "execution_count": 2,
   "metadata": {
    "colab": {
     "base_uri": "https://localhost:8080/",
     "height": 206
    },
    "executionInfo": {
     "elapsed": 52,
     "status": "ok",
     "timestamp": 1685033232173,
     "user": {
      "displayName": "Tien Duong",
      "userId": "11443398976319580124"
     },
     "user_tz": 240
    },
    "id": "l3ZujRR2ouPc",
    "outputId": "55f27276-b768-45f2-d5a8-99c778b55d72"
   },
   "outputs": [
    {
     "name": "stdout",
     "output_type": "stream",
     "text": [
      "Please provide your Kaggle credentials to download this dataset. Learn more: http://bit.ly/kaggle-creds\n",
      "Your Kaggle username: tienduong123\n",
      "Your Kaggle Key: ········\n",
      "Downloading student-performance-in-mathematics.zip to ./student-performance-in-mathematics\n"
     ]
    },
    {
     "name": "stderr",
     "output_type": "stream",
     "text": [
      "100%|██████████| 8.66k/8.66k [00:00<00:00, 6.15MB/s]"
     ]
    },
    {
     "name": "stdout",
     "output_type": "stream",
     "text": [
      "\n"
     ]
    },
    {
     "name": "stderr",
     "output_type": "stream",
     "text": [
      "\n"
     ]
    },
    {
     "data": {
      "text/html": [
       "<div>\n",
       "<style scoped>\n",
       "    .dataframe tbody tr th:only-of-type {\n",
       "        vertical-align: middle;\n",
       "    }\n",
       "\n",
       "    .dataframe tbody tr th {\n",
       "        vertical-align: top;\n",
       "    }\n",
       "\n",
       "    .dataframe thead th {\n",
       "        text-align: right;\n",
       "    }\n",
       "</style>\n",
       "<table border=\"1\" class=\"dataframe\">\n",
       "  <thead>\n",
       "    <tr style=\"text-align: right;\">\n",
       "      <th></th>\n",
       "      <th>gender</th>\n",
       "      <th>race/ethnicity</th>\n",
       "      <th>parental level of education</th>\n",
       "      <th>lunch</th>\n",
       "      <th>test preparation course</th>\n",
       "      <th>math score</th>\n",
       "      <th>reading score</th>\n",
       "      <th>writing score</th>\n",
       "    </tr>\n",
       "  </thead>\n",
       "  <tbody>\n",
       "    <tr>\n",
       "      <th>0</th>\n",
       "      <td>female</td>\n",
       "      <td>group D</td>\n",
       "      <td>some college</td>\n",
       "      <td>standard</td>\n",
       "      <td>completed</td>\n",
       "      <td>59</td>\n",
       "      <td>70</td>\n",
       "      <td>78</td>\n",
       "    </tr>\n",
       "    <tr>\n",
       "      <th>1</th>\n",
       "      <td>male</td>\n",
       "      <td>group D</td>\n",
       "      <td>associate's degree</td>\n",
       "      <td>standard</td>\n",
       "      <td>none</td>\n",
       "      <td>96</td>\n",
       "      <td>93</td>\n",
       "      <td>87</td>\n",
       "    </tr>\n",
       "    <tr>\n",
       "      <th>2</th>\n",
       "      <td>female</td>\n",
       "      <td>group D</td>\n",
       "      <td>some college</td>\n",
       "      <td>free/reduced</td>\n",
       "      <td>none</td>\n",
       "      <td>57</td>\n",
       "      <td>76</td>\n",
       "      <td>77</td>\n",
       "    </tr>\n",
       "    <tr>\n",
       "      <th>3</th>\n",
       "      <td>male</td>\n",
       "      <td>group B</td>\n",
       "      <td>some college</td>\n",
       "      <td>free/reduced</td>\n",
       "      <td>none</td>\n",
       "      <td>70</td>\n",
       "      <td>70</td>\n",
       "      <td>63</td>\n",
       "    </tr>\n",
       "    <tr>\n",
       "      <th>4</th>\n",
       "      <td>female</td>\n",
       "      <td>group D</td>\n",
       "      <td>associate's degree</td>\n",
       "      <td>standard</td>\n",
       "      <td>none</td>\n",
       "      <td>83</td>\n",
       "      <td>85</td>\n",
       "      <td>86</td>\n",
       "    </tr>\n",
       "  </tbody>\n",
       "</table>\n",
       "</div>"
      ],
      "text/plain": [
       "   gender race/ethnicity parental level of education         lunch  \\\n",
       "0  female        group D                some college      standard   \n",
       "1    male        group D          associate's degree      standard   \n",
       "2  female        group D                some college  free/reduced   \n",
       "3    male        group B                some college  free/reduced   \n",
       "4  female        group D          associate's degree      standard   \n",
       "\n",
       "  test preparation course  math score  reading score  writing score  \n",
       "0               completed          59             70             78  \n",
       "1                    none          96             93             87  \n",
       "2                    none          57             76             77  \n",
       "3                    none          70             70             63  \n",
       "4                    none          83             85             86  "
      ]
     },
     "execution_count": 2,
     "metadata": {},
     "output_type": "execute_result"
    }
   ],
   "source": [
    "dataset_url = 'https://www.kaggle.com/datasets/rkiattisak/student-performance-in-mathematics'\n",
    "od.download(dataset_url)\n",
    "data_dir = 'student-performance-in-mathematics'\n",
    "import os\n",
    "os.listdir(data_dir)\n",
    "\n",
    "\n",
    "dataframe_raw = pd.read_csv('student-performance-in-mathematics/exams.csv')\n",
    "dataframe_raw.head()"
   ]
  },
  {
   "cell_type": "markdown",
   "metadata": {
    "id": "cGo5PNrMWN_o"
   },
   "source": [
    "## 2. Preparing the Dataset\n",
    "In order to work with the data better, the data needs to be seperated into numerical and categorical inputs, so that the machine can accurately calculate losses.\n",
    "### 2a. Setting the input, categorical, and output columns"
   ]
  },
  {
   "cell_type": "code",
   "execution_count": 3,
   "metadata": {
    "executionInfo": {
     "elapsed": 45,
     "status": "ok",
     "timestamp": 1685033232173,
     "user": {
      "displayName": "Tien Duong",
      "userId": "11443398976319580124"
     },
     "user_tz": 240
    },
    "id": "-2wWZKqHWN_p"
   },
   "outputs": [],
   "source": [
    "input_cols = [\"parental level of education\",\"lunch\", \"test preparation course\"] #numerical inputs\n",
    "categorical_cols = ['gender', 'race/ethnicity'] #Categorical inputs\n",
    "output_cols = ['math score', 'reading score', 'writing score']"
   ]
  },
  {
   "cell_type": "markdown",
   "metadata": {
    "id": "ZvbTJ2ukptbR"
   },
   "source": [
    "### 2b. Standardizing the Data using Pandas\n",
    "Now we must standardize the numerical data so that the machine takes numerical values instead of textual values. We do this by changing the existing values to numerical ones. For example, parents with only some high school education would recieve a value of 0 whereas parents with a masters degree would recieve a value of 5."
   ]
  },
  {
   "cell_type": "code",
   "execution_count": 4,
   "metadata": {
    "colab": {
     "base_uri": "https://localhost:8080/",
     "height": 206
    },
    "executionInfo": {
     "elapsed": 45,
     "status": "ok",
     "timestamp": 1685033232174,
     "user": {
      "displayName": "Tien Duong",
      "userId": "11443398976319580124"
     },
     "user_tz": 240
    },
    "id": "8D2vDzR7WN_o",
    "outputId": "58d7a619-5272-41ea-a86f-b25f39d78dbf"
   },
   "outputs": [
    {
     "data": {
      "text/html": [
       "<div>\n",
       "<style scoped>\n",
       "    .dataframe tbody tr th:only-of-type {\n",
       "        vertical-align: middle;\n",
       "    }\n",
       "\n",
       "    .dataframe tbody tr th {\n",
       "        vertical-align: top;\n",
       "    }\n",
       "\n",
       "    .dataframe thead th {\n",
       "        text-align: right;\n",
       "    }\n",
       "</style>\n",
       "<table border=\"1\" class=\"dataframe\">\n",
       "  <thead>\n",
       "    <tr style=\"text-align: right;\">\n",
       "      <th></th>\n",
       "      <th>gender</th>\n",
       "      <th>race/ethnicity</th>\n",
       "      <th>parental level of education</th>\n",
       "      <th>lunch</th>\n",
       "      <th>test preparation course</th>\n",
       "      <th>math score</th>\n",
       "      <th>reading score</th>\n",
       "      <th>writing score</th>\n",
       "    </tr>\n",
       "  </thead>\n",
       "  <tbody>\n",
       "    <tr>\n",
       "      <th>0</th>\n",
       "      <td>female</td>\n",
       "      <td>group D</td>\n",
       "      <td>2</td>\n",
       "      <td>1</td>\n",
       "      <td>1</td>\n",
       "      <td>59</td>\n",
       "      <td>70</td>\n",
       "      <td>78</td>\n",
       "    </tr>\n",
       "    <tr>\n",
       "      <th>1</th>\n",
       "      <td>male</td>\n",
       "      <td>group D</td>\n",
       "      <td>3</td>\n",
       "      <td>1</td>\n",
       "      <td>0</td>\n",
       "      <td>96</td>\n",
       "      <td>93</td>\n",
       "      <td>87</td>\n",
       "    </tr>\n",
       "    <tr>\n",
       "      <th>2</th>\n",
       "      <td>female</td>\n",
       "      <td>group D</td>\n",
       "      <td>2</td>\n",
       "      <td>0</td>\n",
       "      <td>0</td>\n",
       "      <td>57</td>\n",
       "      <td>76</td>\n",
       "      <td>77</td>\n",
       "    </tr>\n",
       "    <tr>\n",
       "      <th>3</th>\n",
       "      <td>male</td>\n",
       "      <td>group B</td>\n",
       "      <td>2</td>\n",
       "      <td>0</td>\n",
       "      <td>0</td>\n",
       "      <td>70</td>\n",
       "      <td>70</td>\n",
       "      <td>63</td>\n",
       "    </tr>\n",
       "    <tr>\n",
       "      <th>4</th>\n",
       "      <td>female</td>\n",
       "      <td>group D</td>\n",
       "      <td>3</td>\n",
       "      <td>1</td>\n",
       "      <td>0</td>\n",
       "      <td>83</td>\n",
       "      <td>85</td>\n",
       "      <td>86</td>\n",
       "    </tr>\n",
       "    <tr>\n",
       "      <th>5</th>\n",
       "      <td>male</td>\n",
       "      <td>group C</td>\n",
       "      <td>0</td>\n",
       "      <td>1</td>\n",
       "      <td>0</td>\n",
       "      <td>68</td>\n",
       "      <td>57</td>\n",
       "      <td>54</td>\n",
       "    </tr>\n",
       "    <tr>\n",
       "      <th>6</th>\n",
       "      <td>female</td>\n",
       "      <td>group E</td>\n",
       "      <td>3</td>\n",
       "      <td>1</td>\n",
       "      <td>0</td>\n",
       "      <td>82</td>\n",
       "      <td>83</td>\n",
       "      <td>80</td>\n",
       "    </tr>\n",
       "    <tr>\n",
       "      <th>7</th>\n",
       "      <td>female</td>\n",
       "      <td>group B</td>\n",
       "      <td>0</td>\n",
       "      <td>1</td>\n",
       "      <td>0</td>\n",
       "      <td>46</td>\n",
       "      <td>61</td>\n",
       "      <td>58</td>\n",
       "    </tr>\n",
       "    <tr>\n",
       "      <th>8</th>\n",
       "      <td>male</td>\n",
       "      <td>group C</td>\n",
       "      <td>0</td>\n",
       "      <td>1</td>\n",
       "      <td>0</td>\n",
       "      <td>80</td>\n",
       "      <td>75</td>\n",
       "      <td>73</td>\n",
       "    </tr>\n",
       "    <tr>\n",
       "      <th>9</th>\n",
       "      <td>female</td>\n",
       "      <td>group C</td>\n",
       "      <td>4</td>\n",
       "      <td>1</td>\n",
       "      <td>1</td>\n",
       "      <td>57</td>\n",
       "      <td>69</td>\n",
       "      <td>77</td>\n",
       "    </tr>\n",
       "  </tbody>\n",
       "</table>\n",
       "</div>"
      ],
      "text/plain": [
       "   gender race/ethnicity parental level of education lunch  \\\n",
       "0  female        group D                           2     1   \n",
       "1    male        group D                           3     1   \n",
       "2  female        group D                           2     0   \n",
       "3    male        group B                           2     0   \n",
       "4  female        group D                           3     1   \n",
       "5    male        group C                           0     1   \n",
       "6  female        group E                           3     1   \n",
       "7  female        group B                           0     1   \n",
       "8    male        group C                           0     1   \n",
       "9  female        group C                           4     1   \n",
       "\n",
       "  test preparation course  math score  reading score  writing score  \n",
       "0                       1          59             70             78  \n",
       "1                       0          96             93             87  \n",
       "2                       0          57             76             77  \n",
       "3                       0          70             70             63  \n",
       "4                       0          83             85             86  \n",
       "5                       0          68             57             54  \n",
       "6                       0          82             83             80  \n",
       "7                       0          46             61             58  \n",
       "8                       0          80             75             73  \n",
       "9                       1          57             69             77  "
      ]
     },
     "execution_count": 4,
     "metadata": {},
     "output_type": "execute_result"
    }
   ],
   "source": [
    "#Standardizing lunch values\n",
    "dataframe_raw.loc[dataframe_raw['lunch'] == \"standard\", 'lunch'] = 1\n",
    "dataframe_raw.loc[dataframe_raw['lunch'] == \"free/reduced\", 'lunch'] = 0\n",
    "\n",
    "#Standardizing Parental levels of education\n",
    "dataframe_raw.loc[dataframe_raw['parental level of education'] == \"some high school\", 'parental level of education'] = 0\n",
    "dataframe_raw.loc[dataframe_raw['parental level of education'] == \"high school\", 'parental level of education'] = 1\n",
    "dataframe_raw.loc[dataframe_raw['parental level of education'] == \"some college\", 'parental level of education'] = 2\n",
    "dataframe_raw.loc[dataframe_raw['parental level of education'] == \"associate's degree\", 'parental level of education'] = 3\n",
    "dataframe_raw.loc[dataframe_raw['parental level of education'] == \"bachelor's degree\", 'parental level of education'] = 4\n",
    "dataframe_raw.loc[dataframe_raw['parental level of education'] == \"master's degree\", 'parental level of education'] = 5\n",
    "\n",
    "#Standardizing Test Preparation Course Completion\n",
    "dataframe_raw.loc[dataframe_raw['test preparation course'] == \"none\", 'test preparation course'] = 0\n",
    "dataframe_raw.loc[dataframe_raw['test preparation course'] == \"completed\", 'test preparation course'] = 1\n",
    "\n",
    "#Showing first 10 values to make sure everything is properly standardized\n",
    "df = dataframe_raw\n",
    "df.head(10)"
   ]
  },
  {
   "cell_type": "markdown",
   "metadata": {
    "id": "wzHFnejJWN_p"
   },
   "source": [
    "## 3. Training the Model\n",
    "Now we must preparing dataset for training, by first converting the categorical inputs into categorical codes, and putting the inputs and outputs into numpy arrays.\n",
    "### 3a. Putting data into numpy arrays then converting to tensors for torch to work with."
   ]
  },
  {
   "cell_type": "code",
   "execution_count": 5,
   "metadata": {
    "executionInfo": {
     "elapsed": 44,
     "status": "ok",
     "timestamp": 1685033232174,
     "user": {
      "displayName": "Tien Duong",
      "userId": "11443398976319580124"
     },
     "user_tz": 240
    },
    "id": "kOIIjGgrWN_q"
   },
   "outputs": [],
   "source": [
    "def dataframe_to_arrays(dataframe):\n",
    "    # Make a copy of the original dataframe\n",
    "    dataframe1 = dataframe.copy(deep=True)\n",
    "    # Convert non-numeric categorical columns to numbers\n",
    "    for col in categorical_cols:\n",
    "        dataframe1[col] = dataframe1[col].astype('category').cat.codes\n",
    "    # Extract input & outupts as numpy arrays\n",
    "    inputs_array = dataframe1[input_cols].to_numpy()\n",
    "    targets_array = dataframe1[output_cols].to_numpy()\n",
    "    return inputs_array, targets_array"
   ]
  },
  {
   "cell_type": "markdown",
   "metadata": {
    "id": "h78ipxTDWN_q"
   },
   "source": [
    "### 3b. Turning arrays into tensors for pytorch to use\n",
    "The inputs and targets are now converted to tensors for pytorch to work with, and all converted to the datatype float32."
   ]
  },
  {
   "cell_type": "code",
   "execution_count": 6,
   "metadata": {
    "colab": {
     "base_uri": "https://localhost:8080/"
    },
    "executionInfo": {
     "elapsed": 44,
     "status": "ok",
     "timestamp": 1685033232174,
     "user": {
      "displayName": "Tien Duong",
      "userId": "11443398976319580124"
     },
     "user_tz": 240
    },
    "id": "4Pnir2HIWN_q",
    "outputId": "5bb49639-2010-41bb-af4b-9d35f143c300"
   },
   "outputs": [
    {
     "data": {
      "text/plain": [
       "(array([[2., 1., 1.],\n",
       "        [3., 1., 0.],\n",
       "        [2., 0., 0.],\n",
       "        ...,\n",
       "        [1., 1., 1.],\n",
       "        [1., 1., 0.],\n",
       "        [1., 1., 0.]], dtype=float32),\n",
       " array([[59., 70., 78.],\n",
       "        [96., 93., 87.],\n",
       "        [57., 76., 77.],\n",
       "        ...,\n",
       "        [67., 86., 86.],\n",
       "        [80., 72., 62.],\n",
       "        [58., 47., 45.]], dtype=float32))"
      ]
     },
     "execution_count": 6,
     "metadata": {},
     "output_type": "execute_result"
    }
   ],
   "source": [
    "inputs_array, targets_array = dataframe_to_arrays(df)\n",
    "\n",
    "inputs_array = inputs_array.astype('float32')\n",
    "targets_array = targets_array.astype('float32')\n",
    "\n",
    "inputs = torch.tensor(inputs_array).type(torch.float32)\n",
    "targets = torch.tensor(targets_array).type(torch.float32)\n",
    "\n",
    "dataset = TensorDataset(inputs, targets)\n",
    "inputs_array, targets_array"
   ]
  },
  {
   "cell_type": "markdown",
   "metadata": {
    "id": "6jGkxmnhWN_r"
   },
   "source": [
    "### 3c. Splitting data into training and validation sets\n",
    "The data is then split into training and validation sets."
   ]
  },
  {
   "cell_type": "code",
   "execution_count": 7,
   "metadata": {
    "executionInfo": {
     "elapsed": 49,
     "status": "ok",
     "timestamp": 1685033232181,
     "user": {
      "displayName": "Tien Duong",
      "userId": "11443398976319580124"
     },
     "user_tz": 240
    },
    "id": "ZYpkU1l7WN_r"
   },
   "outputs": [],
   "source": [
    "num_rows = len(df)\n",
    "\n",
    "val_percent = 0.10\n",
    "val_size = int(num_rows * val_percent)\n",
    "train_size = num_rows - val_size\n",
    "\n",
    "\n",
    "train_ds, val_ds = torch.utils.data.random_split(dataset, [train_size, val_size])"
   ]
  },
  {
   "cell_type": "markdown",
   "metadata": {
    "id": "PEzLnbqoWN_s"
   },
   "source": [
    "### 3d. Setting the batch size and making the data loaders\n",
    "The batch size is set and the loaders are made"
   ]
  },
  {
   "cell_type": "code",
   "execution_count": 8,
   "metadata": {
    "executionInfo": {
     "elapsed": 51,
     "status": "ok",
     "timestamp": 1685033232183,
     "user": {
      "displayName": "Tien Duong",
      "userId": "11443398976319580124"
     },
     "user_tz": 240
    },
    "id": "_pUYvNjPWN_s"
   },
   "outputs": [],
   "source": [
    "batch_size = 100\n",
    "\n",
    "train_loader = DataLoader(train_ds, batch_size, shuffle=True)\n",
    "val_loader = DataLoader(val_ds, batch_size)"
   ]
  },
  {
   "cell_type": "markdown",
   "metadata": {
    "id": "YFUmO3c6u0AY"
   },
   "source": [
    "### 3e. Creating the model\n",
    "The model is then defined, and the architecture uses one hidden layer with a size of 30"
   ]
  },
  {
   "cell_type": "code",
   "execution_count": 9,
   "metadata": {
    "executionInfo": {
     "elapsed": 51,
     "status": "ok",
     "timestamp": 1685033232184,
     "user": {
      "displayName": "Tien Duong",
      "userId": "11443398976319580124"
     },
     "user_tz": 240
    },
    "id": "6yKVchppWN_s"
   },
   "outputs": [],
   "source": [
    "class ExamsModel(nn.Module):\n",
    "    def __init__(self):\n",
    "        super().__init__()\n",
    "        self.linear1 = nn.Linear(len(input_cols), 30)\n",
    "        self.linear2 = nn.Linear(30, len(output_cols))\n",
    "        \n",
    "    def forward(self, xb):\n",
    "        out = xb.view(xb.size(0), -1)\n",
    "        out = self.linear1(out)\n",
    "        out = F.relu(out)\n",
    "        out = self.linear2(out)\n",
    "        out = F.relu(out)\n",
    "        return out\n",
    "    \n",
    "    def training_step(self, batch):\n",
    "        inputs, targets = batch \n",
    "        # Generate predictions\n",
    "        out = self(inputs)          \n",
    "        # Calcuate loss\n",
    "        loss = torch.nn.functional.l1_loss(out,targets)\n",
    "        return loss\n",
    "    \n",
    "    def validation_step(self, batch):\n",
    "        inputs, targets = batch\n",
    "        # Generate predictions\n",
    "        out = self(inputs)\n",
    "        # Calculate loss\n",
    "        loss = torch.nn.functional.l1_loss(out,targets)  \n",
    "        return {'val_loss': loss.detach()}\n",
    "        \n",
    "    def validation_epoch_end(self, outputs):\n",
    "        batch_losses = [x['val_loss'] for x in outputs]\n",
    "        epoch_loss = torch.stack(batch_losses).mean()   # Combine losses\n",
    "        return {'val_loss': epoch_loss.item()}\n",
    "    \n",
    "    def epoch_end(self, epoch, result, num_epochs):\n",
    "        # Print result every 20th epoch\n",
    "        if (epoch+1) % 20 == 0 or epoch == num_epochs-1:\n",
    "            print(\"Epoch [{}], val_loss: {:.4f}\".format(epoch+1, result['val_loss']))"
   ]
  },
  {
   "cell_type": "code",
   "execution_count": 10,
   "metadata": {
    "executionInfo": {
     "elapsed": 51,
     "status": "ok",
     "timestamp": 1685033232184,
     "user": {
      "displayName": "Tien Duong",
      "userId": "11443398976319580124"
     },
     "user_tz": 240
    },
    "id": "KaWfMoh_WN_s"
   },
   "outputs": [],
   "source": [
    "model = ExamsModel()"
   ]
  },
  {
   "cell_type": "markdown",
   "metadata": {
    "id": "vkHjXU_3vEIW"
   },
   "source": [
    "### 3f. Creating an evaluation function for predictions\n",
    "An evaluation function is made to calculate losses and train the model for higher accuracy"
   ]
  },
  {
   "cell_type": "code",
   "execution_count": 11,
   "metadata": {
    "executionInfo": {
     "elapsed": 51,
     "status": "ok",
     "timestamp": 1685033232184,
     "user": {
      "displayName": "Tien Duong",
      "userId": "11443398976319580124"
     },
     "user_tz": 240
    },
    "id": "ER4FWiAIWN_t"
   },
   "outputs": [],
   "source": [
    "def evaluate(model, val_loader):\n",
    "    outputs = [model.validation_step(batch) for batch in val_loader]\n",
    "    return model.validation_epoch_end(outputs)\n",
    "\n",
    "def fit(epochs, lr, model, train_loader, val_loader, opt_func=torch.optim.SGD):\n",
    "    history = []\n",
    "    optimizer = opt_func(model.parameters(), lr)\n",
    "    for epoch in range(epochs):\n",
    "        # Training Phase \n",
    "        for batch in train_loader:\n",
    "            loss = model.training_step(batch)\n",
    "            loss.backward()\n",
    "            optimizer.step()\n",
    "            optimizer.zero_grad()\n",
    "        # Validation phase\n",
    "        result = evaluate(model, val_loader)\n",
    "        model.epoch_end(epoch, result, epochs)\n",
    "        history.append(result)\n",
    "    return history"
   ]
  },
  {
   "cell_type": "markdown",
   "metadata": {
    "id": "52CJVF4FvLfU"
   },
   "source": [
    "The inital loss is very high, but will decrease as we continue to train it."
   ]
  },
  {
   "cell_type": "code",
   "execution_count": 12,
   "metadata": {
    "colab": {
     "base_uri": "https://localhost:8080/"
    },
    "executionInfo": {
     "elapsed": 54,
     "status": "ok",
     "timestamp": 1685033232187,
     "user": {
      "displayName": "Tien Duong",
      "userId": "11443398976319580124"
     },
     "user_tz": 240
    },
    "id": "Pb5y8iNvWN_t",
    "outputId": "ac32d1df-e328-47eb-f523-3fe8475ae810"
   },
   "outputs": [
    {
     "name": "stdout",
     "output_type": "stream",
     "text": [
      "[{'val_loss': 66.71634674072266}]\n"
     ]
    }
   ],
   "source": [
    "result = [evaluate(model, val_loader)] # Use the the evaluate function\n",
    "print(result)\n"
   ]
  },
  {
   "cell_type": "markdown",
   "metadata": {
    "id": "7McS-TZxWN_t"
   },
   "source": [
    "## 4. Training Model\n",
    "We will now begin to train the model, starting off with higher learning rates and decreasing them to lower the validation losses more efficiently."
   ]
  },
  {
   "cell_type": "code",
   "execution_count": 13,
   "metadata": {
    "colab": {
     "base_uri": "https://localhost:8080/"
    },
    "executionInfo": {
     "elapsed": 8118,
     "status": "ok",
     "timestamp": 1685033240254,
     "user": {
      "displayName": "Tien Duong",
      "userId": "11443398976319580124"
     },
     "user_tz": 240
    },
    "id": "5nLfm9vbWN_t",
    "outputId": "d9e543f3-46f3-42ef-a1e3-478006923f79"
   },
   "outputs": [
    {
     "name": "stdout",
     "output_type": "stream",
     "text": [
      "Epoch [20], val_loss: 11.0838\n",
      "Epoch [40], val_loss: 10.5884\n",
      "Epoch [60], val_loss: 10.5177\n",
      "Epoch [80], val_loss: 10.5589\n",
      "Epoch [100], val_loss: 10.6074\n",
      "Epoch [120], val_loss: 10.4855\n",
      "Epoch [140], val_loss: 10.5032\n",
      "Epoch [160], val_loss: 11.1256\n",
      "Epoch [180], val_loss: 10.6054\n",
      "Epoch [200], val_loss: 10.4995\n",
      "CPU times: user 3 µs, sys: 1 µs, total: 4 µs\n",
      "Wall time: 6.91 µs\n"
     ]
    }
   ],
   "source": [
    "epochs = 200\n",
    "lr = 0.1\n",
    "result += fit(epochs, lr, model, train_loader, val_loader)\n",
    "%time"
   ]
  },
  {
   "cell_type": "code",
   "execution_count": 14,
   "metadata": {
    "colab": {
     "base_uri": "https://localhost:8080/"
    },
    "executionInfo": {
     "elapsed": 7591,
     "status": "ok",
     "timestamp": 1685033247840,
     "user": {
      "displayName": "Tien Duong",
      "userId": "11443398976319580124"
     },
     "user_tz": 240
    },
    "id": "PnRUTniJWN_t",
    "outputId": "a872ee75-701e-4869-bb41-3cd4335b3f45"
   },
   "outputs": [
    {
     "name": "stdout",
     "output_type": "stream",
     "text": [
      "Epoch [20], val_loss: 10.7070\n",
      "Epoch [40], val_loss: 10.6699\n",
      "Epoch [60], val_loss: 10.6864\n",
      "Epoch [80], val_loss: 10.6832\n",
      "Epoch [100], val_loss: 10.7490\n",
      "Epoch [120], val_loss: 10.6715\n",
      "Epoch [140], val_loss: 10.7312\n",
      "Epoch [160], val_loss: 10.7349\n",
      "Epoch [180], val_loss: 10.7494\n",
      "Epoch [200], val_loss: 10.7414\n",
      "CPU times: user 3 µs, sys: 0 ns, total: 3 µs\n",
      "Wall time: 6.68 µs\n"
     ]
    }
   ],
   "source": [
    "epochs = 200\n",
    "lr = 0.01\n",
    "result += fit(epochs, lr, model, train_loader, val_loader)\n",
    "%time"
   ]
  },
  {
   "cell_type": "code",
   "execution_count": 15,
   "metadata": {
    "colab": {
     "base_uri": "https://localhost:8080/"
    },
    "executionInfo": {
     "elapsed": 8475,
     "status": "ok",
     "timestamp": 1685033256312,
     "user": {
      "displayName": "Tien Duong",
      "userId": "11443398976319580124"
     },
     "user_tz": 240
    },
    "id": "pY3hWPm6WN_u",
    "outputId": "1edef700-fbd7-418f-e83d-b07a24428e9e"
   },
   "outputs": [
    {
     "name": "stdout",
     "output_type": "stream",
     "text": [
      "Epoch [20], val_loss: 10.7174\n",
      "Epoch [40], val_loss: 10.7162\n",
      "Epoch [60], val_loss: 10.7143\n",
      "Epoch [80], val_loss: 10.7156\n",
      "Epoch [100], val_loss: 10.7136\n",
      "Epoch [120], val_loss: 10.7123\n",
      "Epoch [140], val_loss: 10.7137\n",
      "Epoch [160], val_loss: 10.7104\n",
      "Epoch [180], val_loss: 10.7080\n",
      "Epoch [200], val_loss: 10.7070\n"
     ]
    }
   ],
   "source": [
    "epochs = 200\n",
    "lr = 0.001\n",
    "result += fit(epochs, lr, model, train_loader, val_loader)"
   ]
  },
  {
   "cell_type": "code",
   "execution_count": 16,
   "metadata": {
    "colab": {
     "base_uri": "https://localhost:8080/"
    },
    "executionInfo": {
     "elapsed": 7444,
     "status": "ok",
     "timestamp": 1685033263742,
     "user": {
      "displayName": "Tien Duong",
      "userId": "11443398976319580124"
     },
     "user_tz": 240
    },
    "id": "764x2FnVWN_u",
    "outputId": "3d1c9a75-bfed-4005-b979-5118bc51fddd"
   },
   "outputs": [
    {
     "name": "stdout",
     "output_type": "stream",
     "text": [
      "Epoch [20], val_loss: 10.7073\n",
      "Epoch [40], val_loss: 10.7076\n",
      "Epoch [60], val_loss: 10.7078\n",
      "Epoch [80], val_loss: 10.7077\n",
      "Epoch [100], val_loss: 10.7073\n",
      "Epoch [120], val_loss: 10.7072\n",
      "Epoch [140], val_loss: 10.7069\n",
      "Epoch [160], val_loss: 10.7068\n",
      "Epoch [180], val_loss: 10.7067\n",
      "Epoch [200], val_loss: 10.7066\n"
     ]
    }
   ],
   "source": [
    "epochs = 200\n",
    "lr = 0.0001\n",
    "result += fit(epochs, lr, model, train_loader, val_loader)"
   ]
  },
  {
   "cell_type": "markdown",
   "metadata": {
    "id": "aiP15Uy5WN_u"
   },
   "source": [
    "## 5. Making predictions\n",
    "A function is now defined to use the model to predict the test scores of a student."
   ]
  },
  {
   "cell_type": "code",
   "execution_count": 17,
   "metadata": {
    "executionInfo": {
     "elapsed": 38,
     "status": "ok",
     "timestamp": 1685033263743,
     "user": {
      "displayName": "Tien Duong",
      "userId": "11443398976319580124"
     },
     "user_tz": 240
    },
    "id": "lDPsMYrUWN_u"
   },
   "outputs": [],
   "source": [
    "def predict_single(input, target, model):\n",
    "    inputs = input.unsqueeze(0)\n",
    "    predictions = model(inputs)                # fill this\n",
    "    prediction = predictions[0].detach()\n",
    "    print(\"Input:\", input)\n",
    "    print(\"Target:\", target)\n",
    "    print(\"Prediction:\", prediction)"
   ]
  },
  {
   "cell_type": "markdown",
   "metadata": {
    "id": "Mmwu6XCZwCT4"
   },
   "source": [
    "The first person in the validation set is used, as we can see, the prediction is quite accurate considering the few parameters given to the machine."
   ]
  },
  {
   "cell_type": "code",
   "execution_count": 18,
   "metadata": {
    "colab": {
     "base_uri": "https://localhost:8080/"
    },
    "executionInfo": {
     "elapsed": 38,
     "status": "ok",
     "timestamp": 1685033263744,
     "user": {
      "displayName": "Tien Duong",
      "userId": "11443398976319580124"
     },
     "user_tz": 240
    },
    "id": "qf2EYvN3WN_v",
    "outputId": "756206e0-6779-489a-8e3a-c5a79d3e31af"
   },
   "outputs": [
    {
     "name": "stdout",
     "output_type": "stream",
     "text": [
      "Input: tensor([2., 0., 0.])\n",
      "Target: tensor([36., 45., 44.])\n",
      "Prediction: tensor([59.8041, 62.7277, 60.9908])\n"
     ]
    }
   ],
   "source": [
    "input, target = val_ds[0]\n",
    "predict_single(input, target, model)"
   ]
  },
  {
   "cell_type": "markdown",
   "metadata": {
    "id": "NDJD9yg4WN_v"
   },
   "source": [
    "## 6. Analyzing efficiency of model\n",
    "We can now graph the losses over time to see how quickly the model learned as we changed the learning rates used."
   ]
  },
  {
   "cell_type": "code",
   "execution_count": 19,
   "metadata": {
    "executionInfo": {
     "elapsed": 32,
     "status": "ok",
     "timestamp": 1685033263744,
     "user": {
      "displayName": "Tien Duong",
      "userId": "11443398976319580124"
     },
     "user_tz": 240
    },
    "id": "EPmMAB0MWN_v"
   },
   "outputs": [],
   "source": [
    "def plot_losses(history):\n",
    "    losses = [x['val_loss'] for x in history]\n",
    "    plt.plot(losses, '-x')\n",
    "    plt.xlabel('epoch')\n",
    "    plt.ylabel('loss')\n",
    "    plt.title('Loss vs. No. of epochs');"
   ]
  },
  {
   "cell_type": "code",
   "execution_count": 20,
   "metadata": {
    "colab": {
     "base_uri": "https://localhost:8080/",
     "height": 472
    },
    "executionInfo": {
     "elapsed": 31,
     "status": "ok",
     "timestamp": 1685033263744,
     "user": {
      "displayName": "Tien Duong",
      "userId": "11443398976319580124"
     },
     "user_tz": 240
    },
    "id": "-gCxXmetWN_v",
    "outputId": "94eeb694-05af-4f86-bcc0-56a889243191"
   },
   "outputs": [
    {
     "data": {
      "image/png": "[encoded data removed]",
      "text/plain": [
       "<Figure size 432x288 with 1 Axes>"
      ]
     },
     "metadata": {
      "needs_background": "light"
     },
     "output_type": "display_data"
    }
   ],
   "source": [
    "plot_losses(result)"
   ]
  },
  {
   "cell_type": "markdown",
   "metadata": {},
   "source": [
    "## 7. Conclusions\n",
    "#### Model recap:\n",
    "The model was created using a kaggle dataframe that stored student demographics and test scores. The model would then use the demographics of the given student to predict 3 test scores. On average, the model was accurate for all the test scores, and only varied by 10 points off for all 3 scores on average. This means that for each test score, the model was only about 3 points off. Considering the relatively small input and relatively large output tensors required of the model, it is surprisingly accurate.\n",
    "\n",
    "#### Training recap:\n",
    "The model was trained first in vscode on the host computer. During training, a linear model was used as well as multiple feed forward neural networks. With trial and error, it was found that the model was most accurate with a singular layer feed forward neural network with the layer being a size of 30 hidden weights and biases. The linear model was nearly as accurate as the feed forward model, but was not as efficient and required more training in order to get to the save level of accuracy. More powerful models did not achieve the same level of accuracy as the current one did.\n",
    "\n",
    "#### Insights:\n",
    "The fact that a singular layer feed forward neural network worked best could tell us that the relationship between the input and output variables are linear. This could tell us the impact that demographics have on the student. Other factors not included in the dataset such as teacher skills, etc. could have a larger impact on the student.\n",
    "\n",
    "#### Future research:\n",
    "Different types of model architectures could be tried to find a more efficient or accurate model. However, if the dataset were to be increased with more data such as student iq, teacher skills, family income level, etc. then a more accurate model could be made. Training different models with fewer unique inputs could also give us insights on which factors are more influential on student test scores. For example, training the model with only family demographics may be more or less accurate than a model with only school/teacher demographics. A higher accuracy in either would suggest that the family/school is more influential on student test scores.\n",
    "\n",
    "## 8. Saving to Jovian"
   ]
  },
  {
   "cell_type": "code",
   "execution_count": 23,
   "metadata": {},
   "outputs": [],
   "source": [
    "project_name = \"ffproject\""
   ]
  },
  {
   "cell_type": "code",
   "execution_count": 24,
   "metadata": {
    "scrolled": true
   },
   "outputs": [
    {
     "data": {
      "application/javascript": [
       "window.require && require([\"base/js/namespace\"],function(Jupyter){Jupyter.notebook.save_checkpoint()})"
      ],
      "text/plain": [
       "<IPython.core.display.Javascript object>"
      ]
     },
     "metadata": {},
     "output_type": "display_data"
    },
    {
     "name": "stdout",
     "output_type": "stream",
     "text": [
      "[jovian] Updating notebook \"tien-t-duong/ffproject\" on https://jovian.com\u001b[0m\n",
      "[jovian] Committed successfully! https://jovian.com/tien-t-duong/ffproject\u001b[0m\n"
     ]
    },
    {
     "data": {
      "text/plain": [
       "'https://jovian.com/tien-t-duong/ffproject'"
      ]
     },
     "execution_count": 24,
     "metadata": {},
     "output_type": "execute_result"
    }
   ],
   "source": [
    "!pip install jovian --upgrade -q\n",
    "import jovian\n",
    "jovian.commit(project=project_name)"
   ]
  }
 ],
 "metadata": {
  "colab": {
   "provenance": []
  },
  "language_info": {
   "codemirror_mode": {
    "name": "ipython",
    "version": 3
   },
   "file_extension": ".py",
   "mimetype": "text/x-python",
   "name": "python",
   "nbconvert_exporter": "python",
   "pygments_lexer": "ipython3",
   "version": "3.9.7"
  }
 },
 "nbformat": 4,
 "nbformat_minor": 1
}